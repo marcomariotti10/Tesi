{
 "cells": [
  {
   "cell_type": "code",
   "execution_count": 1,
   "metadata": {},
   "outputs": [
    {
     "name": "stdout",
     "output_type": "stream",
     "text": [
      "Current directory: c:\\Users\\marco\\Desktop\\Tesi\\Codice_carla\\final - Copy\\neural_network\n",
      "Parent directory: c:\\Users\\marco\\Desktop\\Tesi\\Codice_carla\\final - Copy\n",
      "Data gen and processing directory: c:\\Users\\marco\\Desktop\\Tesi\\Codice_carla\\final - Copy\\data_gen_and_processing\n",
      "Successfully imported constants.\n",
      "Current directory: c:\\Users\\marco\\Desktop\\Tesi\\Codice_carla\\final - Copy\\neural_network\n",
      "Parent directory: c:\\Users\\marco\\Desktop\\Tesi\\Codice_carla\\final - Copy\n",
      "Data gen and processing directory: c:\\Users\\marco\\Desktop\\Tesi\\Codice_carla\\final - Copy\\data_gen_and_processing\n",
      "Successfully imported constants.\n"
     ]
    }
   ],
   "source": [
    "import tensorflow as tf\n",
    "import csv\n",
    "import os\n",
    "import numpy as np\n",
    "from tensorflow import keras as tfk\n",
    "from keras import layers as tfkl\n",
    "import sys\n",
    "from data_creation import *\n",
    "\n",
    "# Import constants and catch any import errors\n",
    "from link_to_constants import *\n",
    "link_constants()\n",
    "try:\n",
    "    from constants import * # type: ignore\n",
    "    print(\"Successfully imported constants.\")\n",
    "except ImportError as e:\n",
    "    print(f\"Error importing constants: {e}\")"
   ]
  },
  {
   "cell_type": "code",
   "execution_count": null,
   "metadata": {},
   "outputs": [],
   "source": [
    "complete_grid_maps = []\n",
    "complete_grid_maps_BB = []\n",
    "\n",
    "# Load sensor1\n",
    "grid_maps = generate_grid_map(LIDAR_1_GRID_DIRECTORY) # type: ignore\n",
    "grid_maps_BB = generate_grid_map_BB(NEW_POSITION_LIDAR_1_DIRECTORY) # type: ignore\n",
    "\n",
    "grid_maps.append(complete_grid_maps)\n",
    "grid_maps_BB.append(complete_grid_maps_BB)\n",
    "\n",
    "# Load sensor2\n",
    "grid_maps = generate_grid_map(LIDAR_2_GRID_DIRECTORY) # type: ignore\n",
    "grid_maps_BB = generate_grid_map_BB(NEW_POSITION_LIDAR_2_DIRECTORY) # type: ignore\n",
    "\n",
    "grid_maps.append(complete_grid_maps)\n",
    "grid_maps_BB.append(complete_grid_maps_BB)\n",
    "\n",
    "# Load sensor3\n",
    "grid_maps = generate_grid_map(LIDAR_3_GRID_DIRECTORY) # type: ignore\n",
    "grid_maps_BB = generate_grid_map_BB(NEW_POSITION_LIDAR_3_DIRECTORY) # type: ignore\n",
    "\n",
    "grid_maps.append(complete_grid_maps)\n",
    "grid_maps_BB.append(complete_grid_maps_BB)"
   ]
  },
  {
   "cell_type": "code",
   "execution_count": null,
   "metadata": {},
   "outputs": [],
   "source": []
  },
  {
   "cell_type": "code",
   "execution_count": null,
   "metadata": {},
   "outputs": [],
   "source": [
    " # Split the data\n",
    "X_train_val, X_test, y_train_val, y_test = split_data(complete_grid_maps, complete_grid_maps_BB)\n",
    "X_train, X_val, y_train, y_val = split_data(complete_grid_maps, complete_grid_maps_BB, test_size = len(X_test)) # Esure that val and test set have the same lenght"
   ]
  },
  {
   "cell_type": "code",
   "execution_count": null,
   "metadata": {},
   "outputs": [],
   "source": [
    "shape_input = (X_RANGE,Y_RANGE,1) # type: ignore\n",
    "    \n",
    "# Input layer for the 2.5D grid map\n",
    "grid_map_input = tfkl.Input(shape_input, name='grid_map_input')\n",
    "\n",
    "# Encoder\n",
    "x = tfkl.Conv2D(32, (3, 3), activation='relu', padding='same')(grid_map_input)\n",
    "x = tfkl.MaxPooling2D((2, 2), padding='same')(x)\n",
    "x = tfkl.Conv2D(64, (3, 3), activation='relu', padding='same')(x)\n",
    "x = tfkl.MaxPooling2D((2, 2), padding='same')(x)\n",
    "x = tfkl.Conv2D(128, (3, 3), activation='relu', padding='same')(x)\n",
    "encoded = tfkl.MaxPooling2D((2, 2), padding='same')(x)\n",
    "\n",
    "# Decoder\n",
    "x = tfkl.Conv2D(128, (3, 3), activation='relu', padding='same')(encoded)\n",
    "x = tfkl.UpSampling2D((2, 2))(x)\n",
    "x = tfkl.Conv2D(64, (3, 3), activation='relu', padding='same')(x)\n",
    "x = tfkl.UpSampling2D((2, 2))(x)\n",
    "x = tfkl.Conv2D(32, (3, 3), activation='relu', padding='same')(x)\n",
    "x = tfkl.UpSampling2D((2, 2))(x)\n",
    "decoded = tfkl.Conv2D(1, (3, 3), activation='sigmoid', padding='same')(x)\n",
    "\n",
    "# Create the model\n",
    "model = tfkl.Model(inputs=grid_map_input, outputs=decoded)\n",
    "\n",
    "# Compile the model\n",
    "model.compile(optimizer='adam', loss='mean_squared_error')\n",
    "\n",
    "# Print the model summary\n",
    "model.summary()"
   ]
  }
 ],
 "metadata": {
  "kernelspec": {
   "display_name": "Python 3",
   "language": "python",
   "name": "python3"
  },
  "language_info": {
   "codemirror_mode": {
    "name": "ipython",
    "version": 3
   },
   "file_extension": ".py",
   "mimetype": "text/x-python",
   "name": "python",
   "nbconvert_exporter": "python",
   "pygments_lexer": "ipython3",
   "version": "3.8.10"
  }
 },
 "nbformat": 4,
 "nbformat_minor": 2
}
